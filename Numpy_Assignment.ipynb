{
 "cells": [
  {
   "cell_type": "markdown",
   "metadata": {},
   "source": [
    "# Programing for Data Analysis Assignment"
   ]
  },
  {
   "cell_type": "markdown",
   "metadata": {},
   "source": [
    "This assignment includes information about **numpy.random** package and detailed explanation of five distribuitions provided for in the package.\n",
    "\n",
    "## Table of Contents<a id=\"table\"/>\n",
    "\n",
    "* [About the numpy.random package](#about-the-numpy)\n",
    "* [Explanation of use the Simple random data](#explanation-of-use-the-simple-random-data)\n",
    "* [Explanation of use the Permutation function](#explanation-of-use-the-permutation-function)\n",
    "* [Explanation of use and purpose of Distributions functions](#explanation-of-use-and-purpose-of-distributions-functions)\n",
    "\n",
    "    * [Pareto Distribusion](#pareto-distribusion)\n",
    "    * [Laplace Distribusion](#laplace-distribusion)\n",
    "    * [Uniform Distribusion](#uniform-distribution)\n",
    "    * [Expotential Distribusion](#expotential-distribusion)\n",
    "    * [Normal Distribusion](#normal-distribusion)\n",
    "    \n",
    "* [Explanation of use seeds in generating pseudorandom numbers](#explanation-of-use-seeds-in-generating-pseudorandom-numbers)\n",
    "* [References](#references)\n"
   ]
  },
  {
   "cell_type": "markdown",
   "metadata": {},
   "source": [
    "## About the numpy.random package<a id=\"about-the-numpy\"/>\n",
    "\n",
    "The **numpy.random** is a part of NumPy (Numerical Python) package. NumPy is widly used in all sort of mathematical and numerical operation. It is a fundamental package for scientific computing in Python. \n",
    "To generate presudorandom numbers **numpy.random** sub package was developed. It uses PRNG algorithm as its core generator and is separate from old Python random. The package itself includes many functions which some of them will be discussed in details in this assignment. \n",
    "\n",
    "The package numpy.random contains following [main sections](https://docs.scipy.org/doc/numpy-1.15.0/reference/routines.random.html):\n",
    "\n",
    "   * Simple Random Data\n",
    "   * Permutations\n",
    "   * Distributions\n",
    "   * Random Generator\n",
    "    \n",
    " [**<<<**](#table) "
   ]
  },
  {
   "cell_type": "markdown",
   "metadata": {},
   "source": [
    "## Explanation of use the Simple random data<a id=\"explanation-of-use-the-simple-random-data\"/>\n",
    "\n",
    "The Simple random data generates random values in output based on selected function. There are numbers of functions to generate random data. "
   ]
  },
  {
   "cell_type": "code",
   "execution_count": 2,
   "metadata": {},
   "outputs": [],
   "source": [
    "import numpy as np"
   ]
  },
  {
   "cell_type": "code",
   "execution_count": 3,
   "metadata": {
    "scrolled": true
   },
   "outputs": [],
   "source": [
    "x = np.random.rand(10000)"
   ]
  },
  {
   "cell_type": "code",
   "execution_count": 6,
   "metadata": {},
   "outputs": [
    {
     "data": {
      "image/png": "[encoded data removed]",
      "text/plain": [
       "<Figure size 432x288 with 1 Axes>"
      ]
     },
     "metadata": {
      "needs_background": "light"
     },
     "output_type": "display_data"
    }
   ],
   "source": [
    "import matplotlib.pyplot as plt\n",
    "\n",
    "plt.hist(x)\n",
    "plt.show()"
   ]
  },
  {
   "cell_type": "code",
   "execution_count": 7,
   "metadata": {},
   "outputs": [],
   "source": [
    "x = np.random.uniform(0, 1000, 1000)"
   ]
  },
  {
   "cell_type": "code",
   "execution_count": 8,
   "metadata": {},
   "outputs": [],
   "source": [
    "x = np.random.normal(0,0.2,1000)"
   ]
  },
  {
   "cell_type": "code",
   "execution_count": 9,
   "metadata": {},
   "outputs": [
    {
     "data": {
      "text/plain": [
       "(array([  2.,   8.,  54., 125., 222., 254., 199., 102.,  29.,   5.]),\n",
       " array([-0.7177703 , -0.58326584, -0.44876139, -0.31425693, -0.17975248,\n",
       "        -0.04524802,  0.08925644,  0.22376089,  0.35826535,  0.4927698 ,\n",
       "         0.62727426]),\n",
       " <a list of 10 Patch objects>)"
      ]
     },
     "execution_count": 9,
     "metadata": {},
     "output_type": "execute_result"
    },
    {
     "data": {
      "image/png": "[encoded data removed]",
      "text/plain": [
       "<Figure size 432x288 with 1 Axes>"
      ]
     },
     "metadata": {
      "needs_background": "light"
     },
     "output_type": "display_data"
    }
   ],
   "source": [
    "plt.hist(x)"
   ]
  },
  {
   "cell_type": "markdown",
   "metadata": {},
   "source": [
    " [**<<<**](#table) "
   ]
  },
  {
   "cell_type": "markdown",
   "metadata": {},
   "source": [
    "## Explanation of use the Permutation function<a id=\"explanation-of-use-the-permutation-function\"/>"
   ]
  },
  {
   "cell_type": "markdown",
   "metadata": {},
   "source": []
  },
  {
   "cell_type": "markdown",
   "metadata": {},
   "source": [
    "## Explanation of use and purpose of Distributions functions<a id=\"explanation-of-use-and-purpose-of-distributions-functions\"/>"
   ]
  },
  {
   "cell_type": "markdown",
   "metadata": {},
   "source": []
  },
  {
   "cell_type": "markdown",
   "metadata": {},
   "source": [
    "### Pareto Distribusion<a id=\"pareto-distribusion\"/>"
   ]
  },
  {
   "cell_type": "markdown",
   "metadata": {},
   "source": []
  },
  {
   "cell_type": "markdown",
   "metadata": {},
   "source": [
    "### Laplace Distribusion<a id=\"laplace-distribusion\"/>"
   ]
  },
  {
   "cell_type": "markdown",
   "metadata": {},
   "source": []
  },
  {
   "cell_type": "markdown",
   "metadata": {},
   "source": [
    "### Uniform Distribusion<a id=\"uniform-distribution\"/>"
   ]
  },
  {
   "cell_type": "markdown",
   "metadata": {},
   "source": []
  },
  {
   "cell_type": "markdown",
   "metadata": {},
   "source": [
    "### Expotential Distribusion<a id=\"expotential-distribusion\"/>"
   ]
  },
  {
   "cell_type": "markdown",
   "metadata": {},
   "source": []
  },
  {
   "cell_type": "markdown",
   "metadata": {},
   "source": [
    "### Normal Distribusion<a id=\"normal-distribusion\"/>"
   ]
  },
  {
   "cell_type": "markdown",
   "metadata": {},
   "source": []
  },
  {
   "cell_type": "markdown",
   "metadata": {},
   "source": [
    "## Explanation of use seeds in generating pseudorandom numbers<a id=\"explanation-of-use-seeds-in-generating-pseudorandom-numbers\"/>"
   ]
  },
  {
   "cell_type": "markdown",
   "metadata": {},
   "source": []
  },
  {
   "cell_type": "markdown",
   "metadata": {},
   "source": [
    "## References<a id=\"references\"/>\n",
    "\n",
    "1. [SciPy - NumPy](https://docs.scipy.org/doc/numpy-1.13.0/user/whatisnumpy.html)\n",
    "1. [Real Python - numpy.random](https://realpython.com/python-random/)\n",
    "1. [Markdown - Mastering Markdown](https://guides.github.com/features/mastering-markdown/)\n",
    "\n",
    " [**<<<**](#table) "
   ]
  }
 ],
 "metadata": {
  "kernelspec": {
   "display_name": "Python 3",
   "language": "python",
   "name": "python3"
  },
  "language_info": {
   "codemirror_mode": {
    "name": "ipython",
    "version": 3
   },
   "file_extension": ".py",
   "mimetype": "text/x-python",
   "name": "python",
   "nbconvert_exporter": "python",
   "pygments_lexer": "ipython3",
   "version": "3.7.1"
  }
 },
 "nbformat": 4,
 "nbformat_minor": 2
}
