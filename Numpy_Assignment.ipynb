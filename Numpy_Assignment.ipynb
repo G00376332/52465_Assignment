{
 "cells": [
  {
   "cell_type": "markdown",
   "metadata": {},
   "source": [
    "# Programing for Data Analysis Assignment"
   ]
  },
  {
   "cell_type": "markdown",
   "metadata": {},
   "source": [
    "This assignment includes information about **numpy.random** package and detailed explanation of five distributions provided for in the package.\n",
    "\n",
    "## Table of Contents<a id=\"table\"/>\n",
    "\n",
    "* [About the numpy.random package](#about-the-numpy)\n",
    "* [Explanation of the use of \"Simple random data\"](#simple-random-data)\n",
    "* [Explanation of the use of \"Permutation function\"](#permutation-function)\n",
    "* [Explanation of the use of \"Distributions functions\"](#distributions-functions)\n",
    "\n",
    "    * [Pareto Distribusion](#pareto-distribusion)\n",
    "    * [Laplace Distribusion](#laplace-distribusion)\n",
    "    * [Uniform Distribusion](#uniform-distribution)\n",
    "    * [Expotential Distribusion](#expotential-distribusion)\n",
    "    * [Normal Distribusion](#normal-distribusion)\n",
    "    \n",
    "* [Explanation of the use of seeds in generating pseudorandom numbers](#seeds)\n",
    "* [References](#references)\n"
   ]
  },
  {
   "cell_type": "markdown",
   "metadata": {},
   "source": [
    "## About the numpy.random package<a id=\"about-the-numpy\"/>\n",
    "\n",
    "The **numpy.random** is a part of NumPy (Numerical Python) package. NumPy is widely used in all sort of mathematical and numerical operation. It is a fundamental package for scientific computing in Python. \n",
    "To generate pseudorandom numbers **numpy.random** subpackage was developed. It uses the PRNG algorithm as its core generator and is separate from old Python random. The package itself includes many functions and some of them will be discussed in details in this assignment.\n",
    "\n",
    "The package numpy.random contains following [main sections](https://docs.scipy.org/doc/numpy-1.15.0/reference/routines.random.html):\n",
    "\n",
    "   * Simple Random Data\n",
    "   * Permutations\n",
    "   * Distributions\n",
    "   * Random Generator\n",
    "    \n",
    " [**<<<**](#table) "
   ]
  },
  {
   "cell_type": "markdown",
   "metadata": {},
   "source": [
    "## Explanation of the use of \"Simple random data\"<a id=\"#simple-random-data\"/>\n",
    "\n",
    "The Simple random data generates random values in output based on the selected function. There are numbers of functions to generate random data. Below examples demonstrate some functions to simply show how they can be used in practice."
   ]
  },
  {
   "cell_type": "markdown",
   "metadata": {},
   "source": [
    "### numpy.random.rand\n",
    "\n",
    "This function creates an array of the given shape and populates it with random samples from a uniform distribution with number values between 0 and 1. The code below uses random.ran to create an array of 100 numbers and plot a graph to visualize how often those numbers were picked. \n"
   ]
  },
  {
   "cell_type": "code",
   "execution_count": 1,
   "metadata": {},
   "outputs": [
    {
     "data": {
      "image/png": "[encoded data removed]",
      "text/plain": [
       "<Figure size 432x288 with 1 Axes>"
      ]
     },
     "metadata": {
      "needs_background": "light"
     },
     "output_type": "display_data"
    }
   ],
   "source": [
    "# Import all necessary libraries\n",
    "import numpy as np \n",
    "import matplotlib.pyplot as plt\n",
    "# Use magic function to render the figure in a notebook\n",
    "%matplotlib inline\n",
    "# Create an array of 100 numbers using the rand function\n",
    "x = np.random.rand(100)\n",
    "# Show the frequency of number occurrence on the bar chart\n",
    "plt.hist(x)\n",
    "plt.show()"
   ]
  },
  {
   "cell_type": "markdown",
   "metadata": {},
   "source": [
    "### numpy.random.choice\n",
    "\n",
    "The \"choice\" is a simple function and includes four parameters that can be defined as shown below.\n",
    "\n",
    "<p align=\"center\"> <img width=\"600\" height=\"300\" src=\"https://github.com/G00376332/52465_Assignment/raw/master/Pictures/choice.PNG\" alt=\"Choice Function Description\" /> </p>\n",
    "\n",
    "The **\"a\"** parameter allows specifying the array of input values. This is the set of input elements from which function will generate the random sample.\n",
    "\n",
    "The **\"size\"** parameter determines the total number of elements in the array.\n",
    "\n",
    "The **\"replace\"** specifies whether or not the sample is with replacement. It will control that chosen element gets back or not into the pool for next choices. \n",
    "\n",
    "The last parameter **\"p\"** controls the probabilities associated with each entry. By default, each item in the input array has an equal probability of being selected. "
   ]
  },
  {
   "cell_type": "markdown",
   "metadata": {},
   "source": [
    "The below short example creates a simple array and shows how straightforward \"choice\" function is to pick the random number.\n"
   ]
  },
  {
   "cell_type": "code",
   "execution_count": 2,
   "metadata": {},
   "outputs": [
    {
     "data": {
      "text/plain": [
       "array([ 0,  1,  2,  3,  4,  5,  6,  7,  8,  9, 10, 11, 12, 13, 14])"
      ]
     },
     "execution_count": 2,
     "metadata": {},
     "output_type": "execute_result"
    }
   ],
   "source": [
    "# Import NumPy library. \n",
    "# There is no need to import the library or repeat some code in Jupyter Notebook in every cell with new code.\n",
    "# For this assignment some part of code or operations might be repeated for clarity.\n",
    "import numpy as np\n",
    "\n",
    "# Create the simple integer numbers 0 -14 array\n",
    "numbers = np.arange(0,15)\n",
    "\n",
    "# Display the array\n",
    "numbers\n"
   ]
  },
  {
   "cell_type": "code",
   "execution_count": 3,
   "metadata": {},
   "outputs": [
    {
     "data": {
      "text/plain": [
       "array([3])"
      ]
     },
     "execution_count": 3,
     "metadata": {},
     "output_type": "execute_result"
    }
   ],
   "source": [
    "# Select a random number from the \"numbers\" array\n",
    "np.random.choice(numbers,1,replace = \"True\")"
   ]
  },
  {
   "cell_type": "markdown",
   "metadata": {},
   "source": [
    "###  <center> Colour Dice Roll</center>"
   ]
  },
  {
   "cell_type": "markdown",
   "metadata": {},
   "source": [
    "<p align=\"center\"> <img width=\"300\" height=\"100\" src=\"https://github.com/G00376332/52465_Assignment/raw/master/Pictures/colour-dice.PNG\" alt=\"Colour Dice\" /> </p>"
   ]
  },
  {
   "cell_type": "markdown",
   "metadata": {},
   "source": [
    "A practical example where \"choice\" function was hired is a dice roll. To make this exercise more interesting Rubik's cube colours were used instead of numbers. "
   ]
  },
  {
   "cell_type": "code",
   "execution_count": 16,
   "metadata": {},
   "outputs": [
    {
     "data": {
      "image/png": "[encoded data removed]",
      "text/plain": [
       "<Figure size 1152x576 with 2 Axes>"
      ]
     },
     "metadata": {},
     "output_type": "display_data"
    }
   ],
   "source": [
    "# Import all libraries\n",
    "import numpy as np\n",
    "import matplotlib.pyplot as plt\n",
    "import seaborn as sns\n",
    "\n",
    "# Define function that will be call\n",
    "def roll_dice():\n",
    "    # Define colours of dice sides\n",
    "    dice_sides = [\"red\",\"blue\",\"white\",\"orange\",\"green\",\"yellow\"]\n",
    "    # Pick random colour and return selection to the place of the function\n",
    "    return np.random.choice(dice_sides)  \n",
    "\n",
    "# Create samples array with randomly selected colours in defined numbers of tries - 100\n",
    "samples100 = [roll_dice() for i in range(100)]\n",
    "# Increasing range numbers makes a big impact on the distribution - 10000 tries\n",
    "samples10000 = [roll_dice() for i in range(10000)]\n",
    "\n",
    "# Defines chart size\n",
    "plt.figure(figsize=(16,8))\n",
    "# Creates colours array which will be assigned on the chart\n",
    "colors=[\"red\",\"blue\",\"white\",\"orange\",\"green\",\"yellow\"]\n",
    "# Sets a chart style\n",
    "sns.set(style=\"darkgrid\", color_codes=True)\n",
    "\n",
    "# Creates a  chart with samples100 data\n",
    "plt.subplot(1,2,1)\n",
    "plt.title(\"100 Tries\", fontweight=\"bold\", fontsize=15)\n",
    "sns.countplot(samples100, palette=sns.xkcd_palette(colors), edgecolor=(0,0,0), \n",
    "              order=(\"red\",\"blue\",\"white\",\"orange\",\"green\",\"yellow\") )\n",
    "\n",
    "# Creates a  chart with samples10000 data\n",
    "plt.subplot(1,2,2)\n",
    "plt.title(\"10000 Tries\", fontweight=\"bold\", fontsize=15)\n",
    "sns.countplot(samples10000, palette=sns.xkcd_palette(colors), edgecolor=(0,0,0), \n",
    "              order=(\"red\",\"blue\",\"white\",\"orange\",\"green\",\"yellow\") )\n",
    "plt.show()"
   ]
  },
  {
   "cell_type": "markdown",
   "metadata": {},
   "source": [
    "Looking on results from the graphs above side by side for the different range of samples it becomes clear that higher range corresponds with less significant result in an entire statistical distribution."
   ]
  },
  {
   "cell_type": "markdown",
   "metadata": {},
   "source": [
    " [**<<<**](#table) "
   ]
  },
  {
   "cell_type": "markdown",
   "metadata": {},
   "source": [
    "## Explanation of the use of \"Permutation function\"<a id=\"permutation-function\"/>"
   ]
  },
  {
   "cell_type": "markdown",
   "metadata": {},
   "source": [
    "The meaning of \"Permutation\" in mathematics is the act of arranging the members of a set into a sequence or order, or, if the set is already ordered, rearranging (reordering) its elements—a process called permuting. Permutations are studied in almost every branch of mathematics, and in many other fields of science. In computer science, they are used for analyzing sorting algorithms; in quantum physics, for describing states of particles; and in biology, for describing RNA sequences. Permutations may act on structured objects by rearranging their components, or by certain replacements (substitutions) of symbols.\n",
    "\n",
    "One of the most popular example of permutation is Rubik's cube invented 1974 by Ernő Rubik, each turn of the puzzle faces creates a permutation of the surface colors.\n",
    "<p align=\"center\"> <img width=\"200\" height=\"50\" src=\"https://github.com/G00376332/52465_Assignment/raw/master/Pictures/rubik-cube.png\" alt=\"Rubik's cube\" /> </p>\n",
    "\n"
   ]
  },
  {
   "cell_type": "markdown",
   "metadata": {},
   "source": [
    "The **numpy.random** package includes two permutation function: shuffle and permutation."
   ]
  },
  {
   "cell_type": "markdown",
   "metadata": {},
   "source": [
    "### Shuffle\n",
    "\n",
    "This function doesn't change the content of the data array rather shuffled data. It can be very useful if i.e. the order of the given list or numbers need to be randomly altered."
   ]
  },
  {
   "cell_type": "code",
   "execution_count": 5,
   "metadata": {},
   "outputs": [
    {
     "data": {
      "text/plain": [
       "['Mark', 'Thomas', 'John', 'Barry', 'Matthew', 'Pat']"
      ]
     },
     "execution_count": 5,
     "metadata": {},
     "output_type": "execute_result"
    }
   ],
   "source": [
    "# Create name list with a specific order\n",
    "names = [\"John\", \"Mark\", \"Thomas\", \"Matthew\", \"Barry\", \"Pat\"]\n",
    "# Use the shuffle function to randomly change the list order\n",
    "np.random.shuffle(names)\n",
    "\n",
    "names"
   ]
  },
  {
   "cell_type": "markdown",
   "metadata": {},
   "source": [
    "### Permutation\n",
    "The same as the above function the permutation doesn't change the content of the data in the array but rearrange the order of the array. The main difference between those two functions is the way of handling the original array. Permutation keeps data in the original array intact and creates a newly rearranged array. Inversely, the **Shuffle** function messing around with original array."
   ]
  },
  {
   "cell_type": "code",
   "execution_count": 6,
   "metadata": {},
   "outputs": [
    {
     "data": {
      "text/plain": [
       "array(['Mark', 'Matthew', 'Barry', 'John', 'Pat', 'Thomas'], dtype='<U7')"
      ]
     },
     "execution_count": 6,
     "metadata": {},
     "output_type": "execute_result"
    }
   ],
   "source": [
    "# Create name list with specific order\n",
    "names = [\"John\", \"Mark\", \"Thomas\", \"Matthew\", \"Barry\", \"Pat\"]\n",
    "\n",
    "np.random.permutation(names)"
   ]
  },
  {
   "cell_type": "code",
   "execution_count": 7,
   "metadata": {},
   "outputs": [
    {
     "data": {
      "text/plain": [
       "['John', 'Mark', 'Thomas', 'Matthew', 'Barry', 'Pat']"
      ]
     },
     "execution_count": 7,
     "metadata": {},
     "output_type": "execute_result"
    }
   ],
   "source": [
    "names"
   ]
  },
  {
   "cell_type": "markdown",
   "metadata": {},
   "source": [
    " [**<<<**](#table) "
   ]
  },
  {
   "cell_type": "markdown",
   "metadata": {},
   "source": [
    "## Explanation of the use of \"Distributions functions\"<a id=\"distributions-functions\"/>"
   ]
  },
  {
   "cell_type": "markdown",
   "metadata": {},
   "source": [
    "The distribution function is the mathematical expression that describes the probability that a system will take on a specific value or set of values. The numpy.random package contains over 30 different distributions that can be used. Below there are five different distributions which were explained in details."
   ]
  },
  {
   "cell_type": "markdown",
   "metadata": {},
   "source": [
    "### Pareto Distribusion<a id=\"pareto-distribusion\"/>"
   ]
  },
  {
   "cell_type": "markdown",
   "metadata": {},
   "source": [
    "The Pareto distribution refers to the observation that 80% of Italy's wealth belonged to only 20% of the population.\n",
    "It was named after the Italian economist Vilfredo Pareto and is also called **80/20 Rule**.\n",
    "\n",
    "<p align=\"center\"> <img width=\"250\" height=\"75\" src=\"https://github.com/G00376332/52465_Assignment/raw/master/Pictures/pareto.jpg\" alt=\"Vilfredo Pareto\" /></p> \n",
    "\n",
    "Pareto observation was that most things in life were not distributed evenly. It can mean i.e. folowwing things:\n",
    "\n",
    "* 20% of the input creates 80% of the result\n",
    "* 20% of the workers produce 80% of the result\n",
    "* 20% of the customers create 80% of the revenue\n",
    "* 20% of the bugs cause 80% of the crashes\n",
    "* 20% of the features cause 80% of the usage\n",
    "\n",
    "The very practical observation is that employees are most productive and complete 80% of their most valuable work using only 20% of their time.\n",
    "\n",
    "The probability density for the Pareto distribution is\n",
    "\n",
    "**<center> p(x) = \\frac{am^a}{x^{a+1}} </center>**\n",
    "\n",
    "where **a** is the shape and **m** the scale.\n",
    "\n"
   ]
  },
  {
   "cell_type": "code",
   "execution_count": 23,
   "metadata": {},
   "outputs": [
    {
     "data": {
      "image/png": "[encoded data removed]",
      "text/plain": [
       "<Figure size 432x288 with 1 Axes>"
      ]
     },
     "metadata": {},
     "output_type": "display_data"
    }
   ],
   "source": [
    "import numpy as np\n",
    "import matplotlib.pyplot as plt\n",
    "import seaborn as sns\n",
    "\n",
    "a, m = 3., 2.  # shape and mode\n",
    "s = (np.random.pareto(a, 1000) + 1) * m\n",
    "\n",
    "count, bins, _ = plt.hist(s, 100, density=True)\n",
    "fit = a*m**a / bins**(a+1)\n",
    "plt.plot(bins, max(count)*fit/max(fit), linewidth=2, color='r')\n",
    "plt.show()"
   ]
  },
  {
   "cell_type": "markdown",
   "metadata": {},
   "source": [
    " [**<<<**](#table) "
   ]
  },
  {
   "cell_type": "markdown",
   "metadata": {},
   "source": [
    "### Laplace Distribusion<a id=\"laplace-distribusion\"/>"
   ]
  },
  {
   "cell_type": "markdown",
   "metadata": {},
   "source": [
    "The Laplace distribution, one of the earliest known probability distributions, is a continuous probability distribution named after the French mathematician Pierre-Simon Laplace. \n",
    "\n",
    "<p align=\"center\"> <img width=\"250\" height=\"75\" src=\"https://github.com/G00376332/52465_Assignment/raw/master/Pictures/laplace.PNG\" alt=\"Pierre Simon Laplace\" /></p> \n",
    "\n",
    "It is similar to the Gaussian/normal distribution, but is sharper at the peak and has fatter tails. It represents the difference between two independent, identically distributed exponential random variables. This distribution is the result of two exponential distributions, one positive and one negative; It is sometimes called the double exponential distribution, because it looks like two exponential distributions spliced together back-to-back.<br>\n",
    "It has the probability density function\n",
    "\n",
    "**<center>f(x; \\mu, \\lambda) = \\frac{1}{2\\lambda} \\exp\\left(-\\frac{|x - \\mu|}{\\lambda}\\right).</center>**\n",
    "\n",
    "The first law of Laplace, from 1774, states that the frequency of an error can be expressed as an exponential function of the absolute magnitude of the error, which leads to the Laplace distribution. For many problems in economics and health sciences, this distribution seems to model the data better than the standard Gaussian distribution."
   ]
  },
  {
   "cell_type": "code",
   "execution_count": 9,
   "metadata": {},
   "outputs": [
    {
     "data": {
      "text/plain": [
       "[<matplotlib.lines.Line2D at 0x226388f5848>]"
      ]
     },
     "execution_count": 9,
     "metadata": {},
     "output_type": "execute_result"
    },
    {
     "data": {
      "image/png": "[encoded data removed]",
      "text/plain": [
       "<Figure size 432x288 with 1 Axes>"
      ]
     },
     "metadata": {},
     "output_type": "display_data"
    }
   ],
   "source": [
    "import numpy as np\n",
    "import matplotlib.pyplot as plt\n",
    "import seaborn as sns\n",
    "import matplotlib.pyplot as plt\n",
    "\n",
    "loc, scale = 0., 1.\n",
    "s = np.random.laplace(loc, scale, 1000)\n",
    "\n",
    "count, bins, ignored = plt.hist(s, 30, density=True)\n",
    "x = np.arange(-8., 8., .01)\n",
    "pdf = np.exp(-abs(x-loc)/scale)/(2.*scale)\n",
    "plt.plot(x, pdf)\n",
    "\n",
    "g = (1/(scale * np.sqrt(2 * np.pi)) *\n",
    "     np.exp(-(x - loc)**2 / (2 * scale**2)))\n",
    "plt.plot(x,g)"
   ]
  },
  {
   "cell_type": "markdown",
   "metadata": {},
   "source": [
    " [**<<<**](#table) "
   ]
  },
  {
   "cell_type": "markdown",
   "metadata": {},
   "source": [
    "### Uniform Distribusion<a id=\"uniform-distribution\"/>"
   ]
  },
  {
   "cell_type": "markdown",
   "metadata": {},
   "source": [
    "Uniform Distribution is a type of probability distibution in which all outcomes are equally likely; each variable has the same probability that it will be the outcome. A deck of cards has within it uniform distributions because the likelihood of drawing a heart, a club, a diamond or a spade is equally likely. A coin also has a uniform distribution because the probability of getting either heads or tails in a coin toss is the same.\n",
    "\n",
    "The uniform distribution can be visualized as a straight horizontal line, so for a coin flip returning a head or tail, both have a probability p = 0.50 and would be depicted by a line from the y-axis at 0.50."
   ]
  },
  {
   "cell_type": "code",
   "execution_count": 10,
   "metadata": {},
   "outputs": [
    {
     "data": {
      "image/png": "[encoded data removed]",
      "text/plain": [
       "<Figure size 432x288 with 1 Axes>"
      ]
     },
     "metadata": {},
     "output_type": "display_data"
    }
   ],
   "source": [
    "s = np.random.uniform(-1,0,1000)\n",
    "\n",
    "np.all(s >= -1)\n",
    "\n",
    "np.all(s < 0)\n",
    "\n",
    "count, bins, ignored = plt.hist(s, 15, density=True)\n",
    "plt.plot(bins, np.ones_like(bins), linewidth=2, color='r')\n",
    "plt.show()"
   ]
  },
  {
   "cell_type": "markdown",
   "metadata": {},
   "source": [
    " [**<<<**](#table) "
   ]
  },
  {
   "cell_type": "markdown",
   "metadata": {},
   "source": [
    "### Expotential Distribusion<a id=\"expotential-distribusion\"/>"
   ]
  },
  {
   "cell_type": "markdown",
   "metadata": {},
   "source": [
    "The exponential distribution is often concerned with the amount of time until some specific event occurs. For example, the amount of time (beginning now) until an earthquake occurs has an exponential distribution. Other examples include the length, in minutes, of long distance business telephone calls, and the amount of time, in months, a car battery lasts. It can be shown, too, that the value of the change that you have in your pocket or purse approximately follows an exponential distribution.\n",
    "Values for an exponential random variable occur in the following way. There are fewer large values and more small values. For example, the amount of money customers spend in one trip to the supermarket follows an exponential distribution. There are more people who spend small amounts of money and fewer people who spend large amounts of money.\n",
    "The exponential distribution is widely used in the field of reliability. Reliability deals with the amount of time a product lasts.<br>Its probability density function is\n",
    "\n",
    "**<center>f(x; \\frac{1}{\\beta}) = \\frac{1}{\\beta} \\exp(-\\frac{x}{\\beta})</center>**\n",
    "\n",
    "for x > 0 and 0 elsewhere. \\beta is the scale parameter, which is the inverse of the rate parameter \\lambda = 1/\\beta. The rate parameter is an alternative, widely used parameterization of the exponential distribution"
   ]
  },
  {
   "cell_type": "code",
   "execution_count": 11,
   "metadata": {},
   "outputs": [
    {
     "data": {
      "image/png": "[encoded data removed]",
      "text/plain": [
       "<Figure size 432x288 with 1 Axes>"
      ]
     },
     "metadata": {},
     "output_type": "display_data"
    }
   ],
   "source": [
    "import numpy as np\n",
    "import pylab as plt\n",
    "\n",
    "target = 250\n",
    "beta = 1.0/target\n",
    "\n",
    "Y = np.random.exponential(beta, 5000)\n",
    "plt.hist(Y, density=True, bins=200,lw=0,alpha=.8)\n",
    "plt.plot([0,max(Y)],[target,target],'r--')\n",
    "plt.ylim(0,target*1.1)\n",
    "plt.show()"
   ]
  },
  {
   "cell_type": "markdown",
   "metadata": {},
   "source": [
    " [**<<<**](#table) "
   ]
  },
  {
   "cell_type": "markdown",
   "metadata": {},
   "source": [
    "### Normal Distribusion<a id=\"normal-distribusion\"/>"
   ]
  },
  {
   "cell_type": "markdown",
   "metadata": {},
   "source": [
    "The Normal distribution, also known as the Gaussian distribution, is a probability distribution that is symmetric about the mean, showing that data near the mean are more frequent in occurrence than data far from the mean. In graph form, normal distribution will appear as a bell curve.\n",
    "\n",
    "<p align=\"center\"> <img width=\"600\" height=\"300\" src=\"https://github.com/G00376332/52465_Assignment/raw/master/Pictures/bell-curve.PNG\" alt=\"Normal Distribution\" /></p> \n"
   ]
  },
  {
   "cell_type": "code",
   "execution_count": 12,
   "metadata": {},
   "outputs": [
    {
     "data": {
      "image/png": "[encoded data removed]",
      "text/plain": [
       "<Figure size 432x288 with 1 Axes>"
      ]
     },
     "metadata": {},
     "output_type": "display_data"
    }
   ],
   "source": [
    "mu, sigma = 0, 0.1 # mean and standard deviation\n",
    "s = np.random.normal(mu, sigma, 1000)\n",
    "abs(mu - np.mean(s)) < 0.01\n",
    "abs(sigma - np.std(s, ddof=1)) < 0.01\n",
    "count, bins, ignored = plt.hist(s, 30, density=True)\n",
    "plt.plot(bins, 1/(sigma * np.sqrt(2 * np.pi)) *\n",
    "               np.exp( - (bins - mu)**2 / (2 * sigma**2) ),\n",
    "         linewidth=2, color='r')\n",
    "plt.show()"
   ]
  },
  {
   "cell_type": "code",
   "execution_count": 13,
   "metadata": {},
   "outputs": [
    {
     "data": {
      "image/png": "[encoded data removed]",
      "text/plain": [
       "<Figure size 432x288 with 1 Axes>"
      ]
     },
     "metadata": {},
     "output_type": "display_data"
    }
   ],
   "source": [
    "sns.set(color_codes=True)\n",
    "x = np.random.normal(size=1000)\n",
    "sns.distplot(x);"
   ]
  },
  {
   "cell_type": "markdown",
   "metadata": {},
   "source": [
    " [**<<<**](#table) "
   ]
  },
  {
   "cell_type": "markdown",
   "metadata": {},
   "source": [
    "## Explanation of use seeds in generating pseudorandom numbers<a id=\"seeds\"/>"
   ]
  },
  {
   "cell_type": "markdown",
   "metadata": {},
   "source": [
    "The numpy.random.seed function works in conjunction with other functions from numpy.random. The important thing about using a seed for a pseudo-random number generator is that it makes the code repeatable. The Pseudo-random number generators operate by a deterministic process. If the same input is given then the pseudo-random number generator will produce the same output.\n",
    "\n",
    "In examples below it was shown the difference of using functions with and without defined **seed**. "
   ]
  },
  {
   "cell_type": "code",
   "execution_count": 14,
   "metadata": {},
   "outputs": [
    {
     "data": {
      "text/plain": [
       "array([42, 24,  3,  8,  0, 21, 19, 10, 43, 41])"
      ]
     },
     "execution_count": 14,
     "metadata": {},
     "output_type": "execute_result"
    }
   ],
   "source": [
    "# Generate random outputs with defined seed\n",
    "np.random.seed(3)\n",
    "np.random.randint(50, size = 10)"
   ]
  },
  {
   "cell_type": "code",
   "execution_count": 15,
   "metadata": {},
   "outputs": [
    {
     "data": {
      "text/plain": [
       "array([10, 21, 38, 32, 20, 44, 29, 39, 14, 26])"
      ]
     },
     "execution_count": 15,
     "metadata": {},
     "output_type": "execute_result"
    }
   ],
   "source": [
    "# Generate random outputs without defined seed\n",
    "np.random.randint(50, size = 10)"
   ]
  },
  {
   "cell_type": "code",
   "execution_count": 16,
   "metadata": {},
   "outputs": [
    {
     "data": {
      "text/plain": [
       "array([42, 24,  3,  8,  0, 21, 19, 10, 43, 41])"
      ]
     },
     "execution_count": 16,
     "metadata": {},
     "output_type": "execute_result"
    }
   ],
   "source": [
    "# Generate random outputs with defined seed\n",
    "np.random.seed(3)\n",
    "np.random.randint(50, size = 10)"
   ]
  },
  {
   "cell_type": "markdown",
   "metadata": {},
   "source": [
    "The above results are very clear. Using seeds produce the same results as many times as new numbers are generated. This is a very useful function that helps provide the same result every time. In practice, if the code needs to be shared with other users, it will assure that the same outputs will be obtained for everyone."
   ]
  },
  {
   "cell_type": "markdown",
   "metadata": {},
   "source": [
    " [**<<<**](#table) "
   ]
  },
  {
   "cell_type": "markdown",
   "metadata": {},
   "source": [
    "## References<a id=\"references\"/>\n",
    "\n",
    "1. [SciPy - NumPy](https://docs.scipy.org/doc/numpy-1.13.0/user/whatisnumpy.html)\n",
    "1. [Real Python - numpy.random](https://realpython.com/python-random/)\n",
    "1. [Markdown - Mastering Markdown](https://guides.github.com/features/mastering-markdown/)\n",
    "1. [Seaborn Countplot](http://alanpryorjr.com/visualizations/seaborn/countplot/countplot/)\n",
    "1. [Wikipedia - Permutation](https://en.wikipedia.org/wiki/Permutation)\n",
    "1. [Britannica - Distribution](https://www.britannica.com/science/distribution-function)\n",
    "1. [Betterexplained - Pareto Priniciple](https://betterexplained.com/articles/understanding-the-pareto-principle-the-8020-rule/)\n",
    "1. [Statistics How To - Laplace Distribution](https://www.statisticshowto.datasciencecentral.com/laplace-distribution-double-exponential/)\n",
    "1. [Investopedia - Uniform Distribution](https://www.investopedia.com/terms/u/uniform-distribution.asp)\n",
    "1. [Lumen - Expotential Distribution](https://courses.lumenlearning.com/introstats1/chapter/the-exponential-distribution/)\n",
    "1. [Expotential Distribution](https://stackoverflow.com/questions/15091982/manipulating-the-numpy-random-exponential-distribution-in-python)\n",
    "\n",
    "[**<<<**](#table) "
   ]
  }
 ],
 "metadata": {
  "kernelspec": {
   "display_name": "Python 3",
   "language": "python",
   "name": "python3"
  },
  "language_info": {
   "codemirror_mode": {
    "name": "ipython",
    "version": 3
   },
   "file_extension": ".py",
   "mimetype": "text/x-python",
   "name": "python",
   "nbconvert_exporter": "python",
   "pygments_lexer": "ipython3",
   "version": "3.7.4"
  }
 },
 "nbformat": 4,
 "nbformat_minor": 2
}
