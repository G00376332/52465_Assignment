{
 "cells": [
  {
   "cell_type": "markdown",
   "metadata": {},
   "source": [
    "# Programing for Data Analysis Assignment"
   ]
  },
  {
   "cell_type": "markdown",
   "metadata": {},
   "source": [
    "This assignment includes information about **numpy.random** package and detailed explanation of five distribuitions provided for in the package.\n",
    "\n",
    "### Table of Contents\n",
    "\n",
    "* [About the numpy.random package](#about-the-numpy.random-package)\n",
    "* Explanation of use the Simple random data\n",
    "* Explanation of use the Permutation function\n",
    "* Explanation of use and purpose of Distributions functions\n",
    "\n",
    "    * Pareto Distribusion\n",
    "    * Laplace Distribusion\n",
    "    * Uniform Distribusion\n",
    "    * Expotential Distribusion\n",
    "    * Normal Distribusion\n",
    "    \n",
    "* Explanation of use seeds in generating pseudorandom numbers\n",
    "* References\n"
   ]
  },
  {
   "cell_type": "markdown",
   "metadata": {},
   "source": [
    "## About the numpy.random package\n",
    "\n",
    "The **numpy.random** is a part of NumPy (Numerical Python) package. NumPy is widly used in all sort of mathematical and numerical operation. It is a fundamental package for scientific computing in Python. \n",
    "To generate presudorandom numbers **numpy.random** sub package was developed. It uses PRNG algorithm as its core generator and is separate from old Python random. The package itself includes many functions which some of them will be discussed in details in this assignment. \n",
    "\n",
    "The package numpy.random contains following [main sections](https://docs.scipy.org/doc/numpy-1.15.0/reference/routines.random.html):\n",
    "\n",
    "   * Simple Random Data\n",
    "   * Permutations\n",
    "   * Distributions\n",
    "   * Random Generator\n",
    "    \n",
    " "
   ]
  },
  {
   "cell_type": "markdown",
   "metadata": {},
   "source": [
    "## Explanation of use the Simple random data\n",
    "\n",
    "The Simple random data generates random values in output based on selected function. "
   ]
  },
  {
   "cell_type": "code",
   "execution_count": null,
   "metadata": {},
   "outputs": [],
   "source": [
    "import numpy as np"
   ]
  },
  {
   "cell_type": "code",
   "execution_count": 3,
   "metadata": {
    "scrolled": true
   },
   "outputs": [],
   "source": [
    "x = np.random.rand(10000)"
   ]
  },
  {
   "cell_type": "code",
   "execution_count": 5,
   "metadata": {},
   "outputs": [
    {
     "data": {
      "image/png": "[encoded data removed]",
      "text/plain": [
       "<Figure size 432x288 with 1 Axes>"
      ]
     },
     "metadata": {
      "needs_background": "light"
     },
     "output_type": "display_data"
    }
   ],
   "source": [
    "import matplotlib.pyplot as plt\n",
    "\n",
    "plt.hist(x)\n",
    "plt.show()"
   ]
  },
  {
   "cell_type": "code",
   "execution_count": 6,
   "metadata": {},
   "outputs": [],
   "source": [
    "x = np.random.uniform(0, 1000, 1000)"
   ]
  },
  {
   "cell_type": "code",
   "execution_count": 10,
   "metadata": {},
   "outputs": [],
   "source": [
    "x = np.random.normal(0,0.2,1000)"
   ]
  },
  {
   "cell_type": "code",
   "execution_count": 11,
   "metadata": {},
   "outputs": [
    {
     "data": {
      "text/plain": [
       "(array([  4.,  20., 101., 184., 261., 246., 120.,  46.,  17.,   1.]),\n",
       " array([-0.65564829, -0.51864426, -0.38164023, -0.2446362 , -0.10763217,\n",
       "         0.02937186,  0.16637589,  0.30337992,  0.44038395,  0.57738798,\n",
       "         0.71439201]),\n",
       " <a list of 10 Patch objects>)"
      ]
     },
     "execution_count": 11,
     "metadata": {},
     "output_type": "execute_result"
    },
    {
     "data": {
      "image/png": "[encoded data removed]",
      "text/plain": [
       "<Figure size 432x288 with 1 Axes>"
      ]
     },
     "metadata": {
      "needs_background": "light"
     },
     "output_type": "display_data"
    }
   ],
   "source": [
    "plt.hist(x)"
   ]
  },
  {
   "cell_type": "code",
   "execution_count": null,
   "metadata": {},
   "outputs": [],
   "source": []
  },
  {
   "cell_type": "markdown",
   "metadata": {},
   "source": [
    "## References\n",
    "\n",
    "1. [SciPy - NumPy](https://docs.scipy.org/doc/numpy-1.13.0/user/whatisnumpy.html)\n",
    "1. [Real Python - numpy.random](https://realpython.com/python-random/)\n",
    "\n",
    "[1]: About_the_numpy.random_package"
   ]
  }
 ],
 "metadata": {
  "kernelspec": {
   "display_name": "Python 3",
   "language": "python",
   "name": "python3"
  },
  "language_info": {
   "codemirror_mode": {
    "name": "ipython",
    "version": 3
   },
   "file_extension": ".py",
   "mimetype": "text/x-python",
   "name": "python",
   "nbconvert_exporter": "python",
   "pygments_lexer": "ipython3",
   "version": "3.7.1"
  }
 },
 "nbformat": 4,
 "nbformat_minor": 2
}
