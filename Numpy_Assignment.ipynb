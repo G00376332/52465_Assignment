{
 "cells": [
  {
   "cell_type": "markdown",
   "metadata": {},
   "source": [
    "# Programing for Data Analysis Assignment"
   ]
  },
  {
   "cell_type": "markdown",
   "metadata": {},
   "source": [
    "This assignment includes information about **numpy.random** package and detailed explanation of five distribuitions provided for in the package.\n",
    "\n",
    "## Table of Contents<a id=\"table\"/>\n",
    "\n",
    "* [About the numpy.random package](#about-the-numpy)\n",
    "* [Explanation of use the Simple random data](#explanation-of-use-the-simple-random-data)\n",
    "* [Explanation of use the Permutation function](#explanation-of-use-the-permutation-function)\n",
    "* [Explanation of use and purpose of Distributions functions](#explanation-of-use-and-purpose-of-distributions-functions)\n",
    "\n",
    "    * [Pareto Distribusion](#pareto-distribusion)\n",
    "    * [Laplace Distribusion](#laplace-distribusion)\n",
    "    * [Uniform Distribusion](#uniform-distribution)\n",
    "    * [Expotential Distribusion](#expotential-distribusion)\n",
    "    * [Normal Distribusion](#normal-distribusion)\n",
    "    \n",
    "* [Explanation of use seeds in generating pseudorandom numbers](#explanation-of-use-seeds-in-generating-pseudorandom-numbers)\n",
    "* [References](#references)\n"
   ]
  },
  {
   "cell_type": "markdown",
   "metadata": {},
   "source": [
    "## About the numpy.random package<a id=\"about-the-numpy\"/>\n",
    "\n",
    "The **numpy.random** is a part of NumPy (Numerical Python) package. NumPy is widly used in all sort of mathematical and numerical operation. It is a fundamental package for scientific computing in Python. \n",
    "To generate presudorandom numbers **numpy.random** sub package was developed. It uses PRNG algorithm as its core generator and is separate from old Python random. The package itself includes many functions which some of them will be discussed in details in this assignment. \n",
    "\n",
    "The package numpy.random contains following [main sections](https://docs.scipy.org/doc/numpy-1.15.0/reference/routines.random.html):\n",
    "\n",
    "   * Simple Random Data\n",
    "   * Permutations\n",
    "   * Distributions\n",
    "   * Random Generator\n",
    "    \n",
    " [**<<<**](#table) "
   ]
  },
  {
   "cell_type": "markdown",
   "metadata": {},
   "source": [
    "## Explanation of use the Simple random data<a id=\"explanation-of-use-the-simple-random-data\"/>\n",
    "\n",
    "The Simple random data generates random values in output based on selected function. There are numbers of functions to generate random data. Below examples demonstrate some functions to simply show how they can be use in practice."
   ]
  },
  {
   "cell_type": "markdown",
   "metadata": {},
   "source": [
    "### numpy.random.rand\n",
    "\n",
    "This function create an array of the given shape and populate it with random samples from a uniform distribution with number values between 0 and 1. The code below uses random.ran to create an array of 100 numbers and plot a graph to visualize how often those numbers were picked. \n"
   ]
  },
  {
   "cell_type": "code",
   "execution_count": 1,
   "metadata": {},
   "outputs": [],
   "source": [
    "import numpy as np"
   ]
  },
  {
   "cell_type": "code",
   "execution_count": 2,
   "metadata": {
    "scrolled": true
   },
   "outputs": [],
   "source": [
    "x = np.random.rand(100)"
   ]
  },
  {
   "cell_type": "code",
   "execution_count": 3,
   "metadata": {},
   "outputs": [
    {
     "data": {
      "text/plain": [
       "<Figure size 640x480 with 1 Axes>"
      ]
     },
     "metadata": {},
     "output_type": "display_data"
    }
   ],
   "source": [
    "import matplotlib.pyplot as plt\n",
    "\n",
    "plt.hist(x)\n",
    "plt.show()"
   ]
  },
  {
   "cell_type": "code",
   "execution_count": 4,
   "metadata": {},
   "outputs": [],
   "source": [
    "x = np.random.uniform(0, 1000, 1000)"
   ]
  },
  {
   "cell_type": "code",
   "execution_count": 5,
   "metadata": {},
   "outputs": [],
   "source": [
    "x = np.random.normal(0,0.2,1000)"
   ]
  },
  {
   "cell_type": "code",
   "execution_count": 6,
   "metadata": {},
   "outputs": [
    {
     "data": {
      "text/plain": [
       "(array([  2.,  10.,  53., 127., 243., 268., 192.,  85.,  18.,   2.]),\n",
       " array([-0.73626145, -0.5951761 , -0.45409076, -0.31300541, -0.17192007,\n",
       "        -0.03083472,  0.11025062,  0.25133597,  0.39242131,  0.53350666,\n",
       "         0.674592  ]),\n",
       " <a list of 10 Patch objects>)"
      ]
     },
     "execution_count": 6,
     "metadata": {},
     "output_type": "execute_result"
    },
    {
     "data": {
      "image/png": "[encoded data removed]",
      "text/plain": [
       "<Figure size 432x288 with 1 Axes>"
      ]
     },
     "metadata": {
      "needs_background": "light"
     },
     "output_type": "display_data"
    }
   ],
   "source": [
    "plt.hist(x)"
   ]
  },
  {
   "cell_type": "markdown",
   "metadata": {},
   "source": [
    "### numpy.random.choice\n",
    "\n",
    "The \"choice\" is simple function and includes four parameters that can be defined as shown below.\n",
    "\n",
    "<p align=\"center\"> <img width=\"600\" height=\"300\" src=\"Pictures/choice.png\" alt=\"Choice Function Description\" /> </p>\n",
    "\n",
    "The **\"a\"** parameter alows specify the array of input values. This is the set of input elements from which function will generate the random sample.\n",
    "\n",
    "The **\"size\"** parameter determines the total number of elements in the array.\n",
    "\n",
    "The **\"replace\"** specifies whether or not the sample is with replacement. It will control that chosen element gets back or not into the pool for next choices. \n",
    "\n",
    "The last parameter **\"p\"** controls the probabilities associated with each entry. By default, each item in the input array has an equal probability of being selected. "
   ]
  },
  {
   "cell_type": "markdown",
   "metadata": {},
   "source": [
    "Below short example creates simple array and shows how straightforward \"choise\" function is to pick the random number.\n"
   ]
  },
  {
   "cell_type": "code",
   "execution_count": 7,
   "metadata": {},
   "outputs": [
    {
     "data": {
      "text/plain": [
       "array([ 0,  1,  2,  3,  4,  5,  6,  7,  8,  9, 10, 11, 12, 13, 14])"
      ]
     },
     "execution_count": 7,
     "metadata": {},
     "output_type": "execute_result"
    }
   ],
   "source": [
    "# Import NumPy library\n",
    "import numpy as np\n",
    "\n",
    "# Create the simple integer numbers 0 -14 array\n",
    "numbers = np.arange(0,15)\n",
    "\n",
    "# Dsiplay the array\n",
    "numbers\n"
   ]
  },
  {
   "cell_type": "code",
   "execution_count": 8,
   "metadata": {},
   "outputs": [
    {
     "data": {
      "text/plain": [
       "array([9])"
      ]
     },
     "execution_count": 8,
     "metadata": {},
     "output_type": "execute_result"
    }
   ],
   "source": [
    "# Select a random number from the \"numbers\" array\n",
    "np.random.choice(numbers,1,replace = \"True\")"
   ]
  },
  {
   "cell_type": "markdown",
   "metadata": {},
   "source": [
    "###  <center> Colour Dice Roll</center>"
   ]
  },
  {
   "cell_type": "markdown",
   "metadata": {},
   "source": [
    "<p align=\"center\"> <img width=\"200\" height=\"50\" src=\"Pictures/colour-dice.png\" alt=\"Colour Dice\" /> </p>"
   ]
  },
  {
   "cell_type": "markdown",
   "metadata": {},
   "source": [
    "A practical example where \"choice\" function was hired is dice roll. To make this exercise more interesting Rubik's cube colours were used instead of numbers. "
   ]
  },
  {
   "cell_type": "code",
   "execution_count": 34,
   "metadata": {},
   "outputs": [
    {
     "data": {
      "image/png": "[encoded data removed]",
      "text/plain": [
       "<Figure size 576x432 with 1 Axes>"
      ]
     },
     "metadata": {},
     "output_type": "display_data"
    }
   ],
   "source": [
    "import numpy as np\n",
    "import matplotlib.pyplot as plt\n",
    "import pandas as pd\n",
    "import seaborn as sns\n",
    "import matplotlib.ticker as ticker\n",
    "\n",
    "\n",
    "def roll_dice():\n",
    "    dice = [\"red\",\"blue\",\"white\",\"orange\",\"green\",\"yellow\"]\n",
    "    return np.random.choice(dice)  \n",
    "\n",
    "samp = [roll_dice() for i in range(100)]\n",
    "\n",
    "plt.figure(figsize=(8,6))\n",
    "colors=[\"red\",\"blue\",\"white\",\"orange\",\"green\",\"yellow\"]\n",
    "sns.set(style=\"darkgrid\", color_codes=True)\n",
    "sns.countplot(samp, palette=sns.xkcd_palette(colors), edgecolor=(0,0,0), order=(\"red\",\"blue\",\"white\",\"orange\",\"green\",\"yellow\") )\n",
    "plt.show()"
   ]
  },
  {
   "cell_type": "code",
   "execution_count": null,
   "metadata": {},
   "outputs": [],
   "source": [
    "import numpy as np\n",
    "import matplotlib.pyplot as plt\n",
    "import pandas as pd\n",
    "import seaborn as sns\n",
    "import matplotlib.ticker as ticker\n",
    "\n",
    "sns.countplot?\n"
   ]
  },
  {
   "cell_type": "markdown",
   "metadata": {},
   "source": [
    " [**<<<**](#table) "
   ]
  },
  {
   "cell_type": "markdown",
   "metadata": {},
   "source": [
    "## Explanation of use the Permutation function<a id=\"explanation-of-use-the-permutation-function\"/>"
   ]
  },
  {
   "cell_type": "markdown",
   "metadata": {},
   "source": []
  },
  {
   "cell_type": "markdown",
   "metadata": {},
   "source": [
    "## Explanation of use and purpose of Distributions functions<a id=\"explanation-of-use-and-purpose-of-distributions-functions\"/>"
   ]
  },
  {
   "cell_type": "markdown",
   "metadata": {},
   "source": []
  },
  {
   "cell_type": "markdown",
   "metadata": {},
   "source": [
    "### Pareto Distribusion<a id=\"pareto-distribusion\"/>"
   ]
  },
  {
   "cell_type": "markdown",
   "metadata": {},
   "source": []
  },
  {
   "cell_type": "markdown",
   "metadata": {},
   "source": [
    "### Laplace Distribusion<a id=\"laplace-distribusion\"/>"
   ]
  },
  {
   "cell_type": "markdown",
   "metadata": {},
   "source": []
  },
  {
   "cell_type": "markdown",
   "metadata": {},
   "source": [
    "### Uniform Distribusion<a id=\"uniform-distribution\"/>"
   ]
  },
  {
   "cell_type": "markdown",
   "metadata": {},
   "source": []
  },
  {
   "cell_type": "markdown",
   "metadata": {},
   "source": [
    "### Expotential Distribusion<a id=\"expotential-distribusion\"/>"
   ]
  },
  {
   "cell_type": "markdown",
   "metadata": {},
   "source": []
  },
  {
   "cell_type": "markdown",
   "metadata": {},
   "source": [
    "### Normal Distribusion<a id=\"normal-distribusion\"/>"
   ]
  },
  {
   "cell_type": "markdown",
   "metadata": {},
   "source": []
  },
  {
   "cell_type": "markdown",
   "metadata": {},
   "source": [
    "## Explanation of use seeds in generating pseudorandom numbers<a id=\"explanation-of-use-seeds-in-generating-pseudorandom-numbers\"/>"
   ]
  },
  {
   "cell_type": "markdown",
   "metadata": {},
   "source": []
  },
  {
   "cell_type": "markdown",
   "metadata": {},
   "source": [
    "## References<a id=\"references\"/>\n",
    "\n",
    "1. [SciPy - NumPy](https://docs.scipy.org/doc/numpy-1.13.0/user/whatisnumpy.html)\n",
    "1. [Real Python - numpy.random](https://realpython.com/python-random/)\n",
    "1. [Markdown - Mastering Markdown](https://guides.github.com/features/mastering-markdown/)\n",
    "1. [Seaborn Countplot](http://alanpryorjr.com/visualizations/seaborn/countplot/countplot/)\n",
    "\n",
    " [**<<<**](#table) "
   ]
  },
  {
   "cell_type": "code",
   "execution_count": null,
   "metadata": {},
   "outputs": [],
   "source": []
  }
 ],
 "metadata": {
  "kernelspec": {
   "display_name": "Python 3",
   "language": "python",
   "name": "python3"
  },
  "language_info": {
   "codemirror_mode": {
    "name": "ipython",
    "version": 3
   },
   "file_extension": ".py",
   "mimetype": "text/x-python",
   "name": "python",
   "nbconvert_exporter": "python",
   "pygments_lexer": "ipython3",
   "version": "3.7.1"
  }
 },
 "nbformat": 4,
 "nbformat_minor": 2
}
